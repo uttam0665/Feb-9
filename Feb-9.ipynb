{
 "cells": [
  {
   "cell_type": "code",
   "execution_count": 2,
   "id": "4d63a409",
   "metadata": {},
   "outputs": [
    {
     "name": "stdout",
     "output_type": "stream",
     "text": [
      "Honda\n",
      "120\n",
      "90\n"
     ]
    }
   ],
   "source": [
    "'''Q1, Create a vehicle class with an init method having instance variables as name_of_vehicle, max_speed\n",
    "and average_of_vehicle.'''\n",
    "\n",
    "class vehicle:\n",
    "    def __init__(self,name_of_vehicle, max_speed,average_of_vehcile):\n",
    "        self.name_of_vehicle=name_of_vehicle\n",
    "        self.max_speed=max_speed\n",
    "        self.average_of_vehcile=average_of_vehcile\n",
    "        \n",
    "example = vehicle(\"Honda\",120,90)\n",
    "\n",
    "print(example.name_of_vehicle)\n",
    "print(example.max_speed)\n",
    "print(example.average_of_vehcile)\n",
    "    \n",
    "        "
   ]
  },
  {
   "cell_type": "code",
   "execution_count": 6,
   "id": "942c3558",
   "metadata": {},
   "outputs": [
    {
     "name": "stdout",
     "output_type": "stream",
     "text": [
      "Tesla Model S\n",
      "250\n",
      "50\n",
      "The Tesla Model S has a seating capacity of 4 people.\n"
     ]
    }
   ],
   "source": [
    "'''Q2. Create a child class car from the vehicle class created in Que 1, which will inherit the vehicle class.\n",
    "Create a method named seating_capacity which takes capacity as an argument and returns the name of\n",
    "the vehicle and its seating capacity.'''\n",
    "\n",
    "\n",
    "class Vehicle:\n",
    "    def __init__(self,name_of_vehicle, max_speed,average_of_vehcile,average_speed):\n",
    "        self.name_of_vehicle=name_of_vehicle\n",
    "        self.max_speed=max_speed\n",
    "        self.average_of_vehcile=average_of_vehcile\n",
    "        self.average_speed= average_speed\n",
    "\n",
    "class Car(Vehicle):\n",
    "    def seating_capacity(self, capacity):\n",
    "        return f\"The {self.name_of_vehicle} has a seating capacity of {capacity} people.\"\n",
    "\n",
    "my_car = Car(\"Tesla Model S\", 250, 100,50)\n",
    "\n",
    "print(my_car.name_of_vehicle)   \n",
    "print(my_car.max_speed)          \n",
    "print(my_car.average_speed)    \n",
    "\n",
    "capacity = 4\n",
    "result = my_car.seating_capacity(capacity)\n",
    "print(result)                  \n",
    "\n"
   ]
  },
  {
   "cell_type": "code",
   "execution_count": 7,
   "id": "0d009b87",
   "metadata": {},
   "outputs": [
    {
     "data": {
      "text/plain": [
       "'this is a class'"
      ]
     },
     "execution_count": 7,
     "metadata": {},
     "output_type": "execute_result"
    }
   ],
   "source": [
    "'''Q3. What is multiple inheritance? Write a python code to demonstrate multiple inheritance.\n",
    " ans=\n",
    "    Inheritance is the mechanism to achieve the re-usability of code as one class(child class) can derive the properties of another class(parent class). \n",
    "    It also provides transitivity ie. if class C inherits from P then all the sub-classes of C would also inherit from P.'''\n",
    "    \n",
    "    \n",
    "class run:\n",
    "    def run1(self):\n",
    "        return\"this is a class\"\n",
    "    \n",
    "    \n",
    "class run2:\n",
    "    def run3(self):\n",
    "        return \"this is class2\"\n",
    "        \n",
    "        \n",
    "class run4(run,run2):\n",
    "        pass \n",
    "obj_class =run4()\n",
    "obj_class.run3()\n",
    "obj_class.run1()"
   ]
  },
  {
   "cell_type": "code",
   "execution_count": 21,
   "id": "1fa1aed9",
   "metadata": {},
   "outputs": [
    {
     "name": "stdout",
     "output_type": "stream",
     "text": [
      "Sambhu\n",
      "20\n"
     ]
    }
   ],
   "source": [
    "'''Q4.What are getter and setter in python?Create a class and create a getter and a setter method in this\n",
    "class.\n",
    "ans=\n",
    "    Getters: These are the methods used in Object-Oriented Programming (OOPS) which helps to access the private attributes from a class.\n",
    "        Setters: These are the methods used in OOPS feature which helps to set the value to private attributes in a class.'''\n",
    "            \n",
    "class Person:\n",
    "    def __init__(self, name, age):\n",
    "        self._name = name\n",
    "        self._age = age\n",
    "        \n",
    "    def get_name(self):\n",
    "        return self._name\n",
    "    \n",
    "    def set_name(self, name):\n",
    "        self._name = name\n",
    "        \n",
    "    def get_age(self):\n",
    "        return self._age\n",
    "    \n",
    "    def set_age(self, age):\n",
    "        self._age = age\n",
    "\n",
    "obj = Person(\"uttam\",19)\n",
    "\n",
    "obj.set_name(\"Sambhu\")\n",
    "print(obj.get_name())\n",
    "obj.set_age(20)\n",
    "print(obj.get_age())\n",
    "\n"
   ]
  },
  {
   "cell_type": "code",
   "execution_count": 22,
   "id": "fe581e71",
   "metadata": {},
   "outputs": [
    {
     "name": "stdout",
     "output_type": "stream",
     "text": [
      "The dog barks\n"
     ]
    }
   ],
   "source": [
    "'''Q5.What is method overriding in python? Write a python code to demonstrate method overriding.\n",
    "\n",
    "ans=\n",
    "    Method overriding is a feature of object-oriented programming languages where the subclass or child class can provide the program with specific characteristics or a specific\n",
    "    implementation process of data provided that are already defined in the parent class or superclass'''\n",
    "    \n",
    "class Animal:\n",
    "    def make_sound(self):\n",
    "        print(\"The animal makes a sound\")\n",
    "\n",
    "class Dog(Animal):\n",
    "    def make_sound(self):\n",
    "        print(\"The dog barks\")\n",
    "\n",
    "dog = Dog()\n",
    "dog.make_sound()\n"
   ]
  },
  {
   "cell_type": "code",
   "execution_count": null,
   "id": "eb7bcb82",
   "metadata": {},
   "outputs": [],
   "source": []
  }
 ],
 "metadata": {
  "kernelspec": {
   "display_name": "Python 3 (ipykernel)",
   "language": "python",
   "name": "python3"
  },
  "language_info": {
   "codemirror_mode": {
    "name": "ipython",
    "version": 3
   },
   "file_extension": ".py",
   "mimetype": "text/x-python",
   "name": "python",
   "nbconvert_exporter": "python",
   "pygments_lexer": "ipython3",
   "version": "3.10.11"
  }
 },
 "nbformat": 4,
 "nbformat_minor": 5
}
